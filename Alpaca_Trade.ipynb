{
  "nbformat": 4,
  "nbformat_minor": 0,
  "metadata": {
    "colab": {
      "name": "Alpaca-Trade.ipynb",
      "provenance": []
    },
    "kernelspec": {
      "name": "python3",
      "display_name": "Python 3"
    },
    "language_info": {
      "name": "python"
    },
    "gpuClass": "standard"
  },
  "cells": [
    {
      "cell_type": "code",
      "source": [
        "!pip install alpaca_trade_api"
      ],
      "metadata": {
        "id": "KpGoEwuiVaWg"
      },
      "execution_count": null,
      "outputs": []
    },
    {
      "cell_type": "code",
      "execution_count": null,
      "metadata": {
        "id": "B0SC83jvZbXC"
      },
      "outputs": [],
      "source": [
        "import alpaca_trade_api as tradeapi\n",
        "from alpaca_trade_api.rest import REST, TimeFrame\n",
        "import matplotlib.pyplot as plt\n",
        "import seaborn as sns\n",
        "import pandas as pd\n",
        "import numpy as np\n",
        "from sklearn.ensemble import RandomForestClassifier, RandomForestRegressor\n",
        "from sklearn.metrics import accuracy_score\n",
        "from sklearn.linear_model import LogisticRegression, LinearRegression\n",
        "from sklearn.neural_network import MLPClassifier\n",
        "\n",
        "#import "
      ]
    },
    {
      "cell_type": "code",
      "source": [
        "alpaca = tradeapi.REST('PKEK13ZV89MV6G9JVS76','HoWeAjGDcmOyv8ogQMz7NHueC7j5K6rj0qJgaN4G', base_url = 'https://paper-api.alpaca.markets')\n",
        "btc = alpaca.get_crypto_bars('BTCUSD',TimeFrame.Hour, '2020-06-25','2022-06-25').df\n",
        "btc = btc.reset_index()\n",
        "btc = btc[btc['exchange'] == 'FTXU']\n",
        "btc['differece'] = btc['close'].diff()\n",
        "btc.drop(1, axis = 0, inplace = True)\n",
        "btc['prevmvt'] = np.where((btc['differece'] > 0), 1, 0)\n",
        "# btc['prevmvt'] = np.where((btc['differece'] < -50), 1, btc['prevmvt'])\n",
        "# btc['prevmvt'] = np.where((btc['differece'] < -100), 2, btc['prevmvt'])\n",
        "# btc['prevmvt'] = np.where((btc['differece'] < -150), 3, btc['prevmvt'])\n",
        "\n",
        "# btc['prevmvt'] = np.where((btc['differece'] > 0), 4, btc['prevmvt'])\n",
        "# btc['prevmvt'] = np.where((btc['differece']  > 50), 5, btc['prevmvt'])\n",
        "# btc['prevmvt'] = np.where((btc['differece']  > 100), 6, btc['prevmvt'])\n",
        "# btc['prevmvt'] = np.where((btc['differece'] > 150), 7, btc['prevmvt'])\n",
        "btc['target'] = btc['prevmvt'].shift(-1)\n",
        "btc.drop(39769, axis = 0, inplace = True)\n",
        "dates = pd.to_datetime(btc['timestamp']).dt.tz_convert(None)\n",
        "btc['time'] = (dates - pd.Timestamp('1970-01-01')) //pd.Timedelta('1s')\n",
        "btc['ratio'] = btc['volume']/btc['trade_count']\n",
        "btc['high/low'] = btc['high']-btc['low']"
      ],
      "metadata": {
        "id": "ipUuU5mta6Xg"
      },
      "execution_count": null,
      "outputs": []
    },
    {
      "cell_type": "code",
      "source": [
        "def timeSeriesCV(n_splits, data ,targets, model):\n",
        "  results = np.zeros(n_splits)\n",
        "  length = data.shape[0]\n",
        "  test_len = int(length/(n_splits+1))\n",
        "  for i in range(n_splits):\n",
        "    tr_pnt = test_len*(i+1)\n",
        "    train_x = data.iloc[0:tr_pnt]\n",
        "    train_Y = targets.iloc[0:tr_pnt]\n",
        "\n",
        "    tst_pnt = tr_pnt + test_len\n",
        "    test_x = data.iloc[tr_pnt:tst_pnt]\n",
        "    test_Y = targets.iloc[tr_pnt:tst_pnt]\n",
        "    model.fit(train_x,train_Y )\n",
        "    y_pred = model.predict(test_x)\n",
        "    results[i] = accuracy_score(test_Y, y_pred)\n",
        "  return results\n",
        "\n",
        "def lag(df, num_lags):\n",
        "  out = df.copy()\n",
        "  for i in range(num_lags):\n",
        "    for j in out.columns:\n",
        "      df[f'{j}_lag{i}'] = df[j].shift(i+1)\n",
        "  return df"
      ],
      "metadata": {
        "id": "IU6uWhjeU5Nn"
      },
      "execution_count": null,
      "outputs": []
    },
    {
      "cell_type": "code",
      "source": [
        "\n",
        "datas = btc.drop(['target', 'timestamp', 'exchange','prevmvt', 'target', 'open', 'high','low'], axis = 1)\n",
        "step =  5\n",
        "datas = lag(datas, step).iloc[step:].copy()\n",
        "\n",
        "target = btc['target'].iloc[step:].copy()\n",
        "rf = RandomForestClassifier()\n",
        "xgb = XGBClassifier()\n",
        "lg = LogisticRegression()\n",
        "timeSeriesCV(n_splits = 5, data = datas, targets = target, model = xgb)\n"
      ],
      "metadata": {
        "colab": {
          "base_uri": "https://localhost:8080/"
        },
        "id": "NzEMpNVCV4mY",
        "outputId": "9f57d719-3c81-4ff7-ce27-4ed1c3044ce1"
      },
      "execution_count": null,
      "outputs": [
        {
          "output_type": "execute_result",
          "data": {
            "text/plain": [
              "array([0.5071644 , 0.51282051, 0.51282051, 0.52187029, 0.5361991 ])"
            ]
          },
          "metadata": {},
          "execution_count": 442
        }
      ]
    },
    {
      "cell_type": "code",
      "source": [
        "close = btc[['close','time']]"
      ],
      "metadata": {
        "id": "n5_f4JX4vb8v"
      },
      "execution_count": null,
      "outputs": []
    },
    {
      "cell_type": "code",
      "source": [
        "close"
      ],
      "metadata": {
        "colab": {
          "base_uri": "https://localhost:8080/",
          "height": 424
        },
        "id": "cuF8WRydS7pZ",
        "outputId": "02a7815e-802b-44be-b943-e5c60d3acb82"
      },
      "execution_count": null,
      "outputs": [
        {
          "output_type": "execute_result",
          "data": {
            "text/plain": [
              "         close        time\n",
              "5       9232.0  1593072000\n",
              "7       9290.5  1593075600\n",
              "9       9271.5  1593079200\n",
              "12      9185.5  1593086400\n",
              "17      9217.5  1593100800\n",
              "...        ...         ...\n",
              "39754  21472.0  1656198000\n",
              "39757  21458.0  1656201600\n",
              "39760  21372.0  1656205200\n",
              "39763  21335.0  1656208800\n",
              "39766  21417.0  1656212400\n",
              "\n",
              "[15920 rows x 2 columns]"
            ],
            "text/html": [
              "\n",
              "  <div id=\"df-0918856c-cd88-4fe8-901f-17bcf37e2a58\">\n",
              "    <div class=\"colab-df-container\">\n",
              "      <div>\n",
              "<style scoped>\n",
              "    .dataframe tbody tr th:only-of-type {\n",
              "        vertical-align: middle;\n",
              "    }\n",
              "\n",
              "    .dataframe tbody tr th {\n",
              "        vertical-align: top;\n",
              "    }\n",
              "\n",
              "    .dataframe thead th {\n",
              "        text-align: right;\n",
              "    }\n",
              "</style>\n",
              "<table border=\"1\" class=\"dataframe\">\n",
              "  <thead>\n",
              "    <tr style=\"text-align: right;\">\n",
              "      <th></th>\n",
              "      <th>close</th>\n",
              "      <th>time</th>\n",
              "    </tr>\n",
              "  </thead>\n",
              "  <tbody>\n",
              "    <tr>\n",
              "      <th>5</th>\n",
              "      <td>9232.0</td>\n",
              "      <td>1593072000</td>\n",
              "    </tr>\n",
              "    <tr>\n",
              "      <th>7</th>\n",
              "      <td>9290.5</td>\n",
              "      <td>1593075600</td>\n",
              "    </tr>\n",
              "    <tr>\n",
              "      <th>9</th>\n",
              "      <td>9271.5</td>\n",
              "      <td>1593079200</td>\n",
              "    </tr>\n",
              "    <tr>\n",
              "      <th>12</th>\n",
              "      <td>9185.5</td>\n",
              "      <td>1593086400</td>\n",
              "    </tr>\n",
              "    <tr>\n",
              "      <th>17</th>\n",
              "      <td>9217.5</td>\n",
              "      <td>1593100800</td>\n",
              "    </tr>\n",
              "    <tr>\n",
              "      <th>...</th>\n",
              "      <td>...</td>\n",
              "      <td>...</td>\n",
              "    </tr>\n",
              "    <tr>\n",
              "      <th>39754</th>\n",
              "      <td>21472.0</td>\n",
              "      <td>1656198000</td>\n",
              "    </tr>\n",
              "    <tr>\n",
              "      <th>39757</th>\n",
              "      <td>21458.0</td>\n",
              "      <td>1656201600</td>\n",
              "    </tr>\n",
              "    <tr>\n",
              "      <th>39760</th>\n",
              "      <td>21372.0</td>\n",
              "      <td>1656205200</td>\n",
              "    </tr>\n",
              "    <tr>\n",
              "      <th>39763</th>\n",
              "      <td>21335.0</td>\n",
              "      <td>1656208800</td>\n",
              "    </tr>\n",
              "    <tr>\n",
              "      <th>39766</th>\n",
              "      <td>21417.0</td>\n",
              "      <td>1656212400</td>\n",
              "    </tr>\n",
              "  </tbody>\n",
              "</table>\n",
              "<p>15920 rows × 2 columns</p>\n",
              "</div>\n",
              "      <button class=\"colab-df-convert\" onclick=\"convertToInteractive('df-0918856c-cd88-4fe8-901f-17bcf37e2a58')\"\n",
              "              title=\"Convert this dataframe to an interactive table.\"\n",
              "              style=\"display:none;\">\n",
              "        \n",
              "  <svg xmlns=\"http://www.w3.org/2000/svg\" height=\"24px\"viewBox=\"0 0 24 24\"\n",
              "       width=\"24px\">\n",
              "    <path d=\"M0 0h24v24H0V0z\" fill=\"none\"/>\n",
              "    <path d=\"M18.56 5.44l.94 2.06.94-2.06 2.06-.94-2.06-.94-.94-2.06-.94 2.06-2.06.94zm-11 1L8.5 8.5l.94-2.06 2.06-.94-2.06-.94L8.5 2.5l-.94 2.06-2.06.94zm10 10l.94 2.06.94-2.06 2.06-.94-2.06-.94-.94-2.06-.94 2.06-2.06.94z\"/><path d=\"M17.41 7.96l-1.37-1.37c-.4-.4-.92-.59-1.43-.59-.52 0-1.04.2-1.43.59L10.3 9.45l-7.72 7.72c-.78.78-.78 2.05 0 2.83L4 21.41c.39.39.9.59 1.41.59.51 0 1.02-.2 1.41-.59l7.78-7.78 2.81-2.81c.8-.78.8-2.07 0-2.86zM5.41 20L4 18.59l7.72-7.72 1.47 1.35L5.41 20z\"/>\n",
              "  </svg>\n",
              "      </button>\n",
              "      \n",
              "  <style>\n",
              "    .colab-df-container {\n",
              "      display:flex;\n",
              "      flex-wrap:wrap;\n",
              "      gap: 12px;\n",
              "    }\n",
              "\n",
              "    .colab-df-convert {\n",
              "      background-color: #E8F0FE;\n",
              "      border: none;\n",
              "      border-radius: 50%;\n",
              "      cursor: pointer;\n",
              "      display: none;\n",
              "      fill: #1967D2;\n",
              "      height: 32px;\n",
              "      padding: 0 0 0 0;\n",
              "      width: 32px;\n",
              "    }\n",
              "\n",
              "    .colab-df-convert:hover {\n",
              "      background-color: #E2EBFA;\n",
              "      box-shadow: 0px 1px 2px rgba(60, 64, 67, 0.3), 0px 1px 3px 1px rgba(60, 64, 67, 0.15);\n",
              "      fill: #174EA6;\n",
              "    }\n",
              "\n",
              "    [theme=dark] .colab-df-convert {\n",
              "      background-color: #3B4455;\n",
              "      fill: #D2E3FC;\n",
              "    }\n",
              "\n",
              "    [theme=dark] .colab-df-convert:hover {\n",
              "      background-color: #434B5C;\n",
              "      box-shadow: 0px 1px 3px 1px rgba(0, 0, 0, 0.15);\n",
              "      filter: drop-shadow(0px 1px 2px rgba(0, 0, 0, 0.3));\n",
              "      fill: #FFFFFF;\n",
              "    }\n",
              "  </style>\n",
              "\n",
              "      <script>\n",
              "        const buttonEl =\n",
              "          document.querySelector('#df-0918856c-cd88-4fe8-901f-17bcf37e2a58 button.colab-df-convert');\n",
              "        buttonEl.style.display =\n",
              "          google.colab.kernel.accessAllowed ? 'block' : 'none';\n",
              "\n",
              "        async function convertToInteractive(key) {\n",
              "          const element = document.querySelector('#df-0918856c-cd88-4fe8-901f-17bcf37e2a58');\n",
              "          const dataTable =\n",
              "            await google.colab.kernel.invokeFunction('convertToInteractive',\n",
              "                                                     [key], {});\n",
              "          if (!dataTable) return;\n",
              "\n",
              "          const docLinkHtml = 'Like what you see? Visit the ' +\n",
              "            '<a target=\"_blank\" href=https://colab.research.google.com/notebooks/data_table.ipynb>data table notebook</a>'\n",
              "            + ' to learn more about interactive tables.';\n",
              "          element.innerHTML = '';\n",
              "          dataTable['output_type'] = 'display_data';\n",
              "          await google.colab.output.renderOutput(dataTable, element);\n",
              "          const docLink = document.createElement('div');\n",
              "          docLink.innerHTML = docLinkHtml;\n",
              "          element.appendChild(docLink);\n",
              "        }\n",
              "      </script>\n",
              "    </div>\n",
              "  </div>\n",
              "  "
            ]
          },
          "metadata": {},
          "execution_count": 562
        }
      ]
    },
    {
      "cell_type": "code",
      "source": [
        "lm = LinearRegression()\n",
        "lm.fit(np.arange(0,15920).reshape(-1,1),close['close'].to_numpy().reshape(-1,1))\n"
      ],
      "metadata": {
        "colab": {
          "base_uri": "https://localhost:8080/"
        },
        "id": "-kCdp_L_TA1u",
        "outputId": "29137bfc-185f-420b-dad9-53da1e2474f5"
      },
      "execution_count": null,
      "outputs": [
        {
          "output_type": "execute_result",
          "data": {
            "text/plain": [
              "LinearRegression()"
            ]
          },
          "metadata": {},
          "execution_count": 578
        }
      ]
    },
    {
      "cell_type": "code",
      "source": [
        "start =  - lm.predict(np.arange(0,15920).reshape(-1,1))"
      ],
      "metadata": {
        "id": "pJUphxWYT7wA"
      },
      "execution_count": null,
      "outputs": []
    },
    {
      "cell_type": "code",
      "source": [
        "plt.plot(start)"
      ],
      "metadata": {
        "colab": {
          "base_uri": "https://localhost:8080/",
          "height": 283
        },
        "id": "LetoVtUlT9my",
        "outputId": "a053105b-1c73-426c-89c9-5c6797ac8cdf"
      },
      "execution_count": null,
      "outputs": [
        {
          "output_type": "execute_result",
          "data": {
            "text/plain": [
              "[<matplotlib.lines.Line2D at 0x7fe3e5430d10>]"
            ]
          },
          "metadata": {},
          "execution_count": 580
        },
        {
          "output_type": "display_data",
          "data": {
            "text/plain": [
              "<Figure size 432x288 with 1 Axes>"
            ],
            "image/png": "[encoded data removed]"
          },
          "metadata": {
            "needs_background": "light"
          }
        }
      ]
    },
    {
      "cell_type": "code",
      "source": [
        "close['close'].to_numpy()"
      ],
      "metadata": {
        "colab": {
          "base_uri": "https://localhost:8080/"
        },
        "id": "Koxq_jzjTPHz",
        "outputId": "5b1fc622-9d8b-406e-cd43-6bcc5447a999"
      },
      "execution_count": null,
      "outputs": [
        {
          "output_type": "execute_result",
          "data": {
            "text/plain": [
              "array([ 9232. ,  9290.5,  9271.5, ..., 21372. , 21335. , 21417. ])"
            ]
          },
          "metadata": {},
          "execution_count": 575
        }
      ]
    },
    {
      "cell_type": "code",
      "source": [
        "lagy = 10\n",
        "fut = 1\n",
        "out = lag(pd.DataFrame(close), lagy)\n",
        "out['target'] = btc['close'].shift(-fut)\n",
        "out = out.iloc[:-fut]"
      ],
      "metadata": {
        "id": "XzhngB_d-bt_"
      },
      "execution_count": null,
      "outputs": []
    },
    {
      "cell_type": "code",
      "source": [
        "out"
      ],
      "metadata": {
        "colab": {
          "base_uri": "https://localhost:8080/",
          "height": 424
        },
        "id": "qrmevuo7SRso",
        "outputId": "a743c019-e6c6-45eb-8dec-f08581e24b32"
      },
      "execution_count": null,
      "outputs": [
        {
          "output_type": "execute_result",
          "data": {
            "text/plain": [
              "         close  close_lag0  close_lag1  close_lag2  close_lag3  close_lag4  \\\n",
              "5       9232.0         NaN         NaN         NaN         NaN         NaN   \n",
              "7       9290.5      9232.0         NaN         NaN         NaN         NaN   \n",
              "9       9271.5      9290.5      9232.0         NaN         NaN         NaN   \n",
              "12      9185.5      9271.5      9290.5      9232.0         NaN         NaN   \n",
              "17      9217.5      9185.5      9271.5      9290.5      9232.0         NaN   \n",
              "...        ...         ...         ...         ...         ...         ...   \n",
              "39751  21413.0     21495.0     21188.0     21188.0     21225.0     21073.0   \n",
              "39754  21472.0     21413.0     21495.0     21188.0     21188.0     21225.0   \n",
              "39757  21458.0     21472.0     21413.0     21495.0     21188.0     21188.0   \n",
              "39760  21372.0     21458.0     21472.0     21413.0     21495.0     21188.0   \n",
              "39763  21335.0     21372.0     21458.0     21472.0     21413.0     21495.0   \n",
              "\n",
              "       close_lag5  close_lag6  close_lag7  close_lag8  close_lag9   target  \n",
              "5             NaN         NaN         NaN         NaN         NaN   9290.5  \n",
              "7             NaN         NaN         NaN         NaN         NaN   9271.5  \n",
              "9             NaN         NaN         NaN         NaN         NaN   9185.5  \n",
              "12            NaN         NaN         NaN         NaN         NaN   9217.5  \n",
              "17            NaN         NaN         NaN         NaN         NaN   9248.0  \n",
              "...           ...         ...         ...         ...         ...      ...  \n",
              "39751     21039.0     20957.0     21108.0     21141.0     21124.0  21472.0  \n",
              "39754     21073.0     21039.0     20957.0     21108.0     21141.0  21458.0  \n",
              "39757     21225.0     21073.0     21039.0     20957.0     21108.0  21372.0  \n",
              "39760     21188.0     21225.0     21073.0     21039.0     20957.0  21335.0  \n",
              "39763     21188.0     21188.0     21225.0     21073.0     21039.0  21417.0  \n",
              "\n",
              "[15919 rows x 12 columns]"
            ],
            "text/html": [
              "\n",
              "  <div id=\"df-ad1b9c53-c099-4cd8-ab94-6ec78403e29f\">\n",
              "    <div class=\"colab-df-container\">\n",
              "      <div>\n",
              "<style scoped>\n",
              "    .dataframe tbody tr th:only-of-type {\n",
              "        vertical-align: middle;\n",
              "    }\n",
              "\n",
              "    .dataframe tbody tr th {\n",
              "        vertical-align: top;\n",
              "    }\n",
              "\n",
              "    .dataframe thead th {\n",
              "        text-align: right;\n",
              "    }\n",
              "</style>\n",
              "<table border=\"1\" class=\"dataframe\">\n",
              "  <thead>\n",
              "    <tr style=\"text-align: right;\">\n",
              "      <th></th>\n",
              "      <th>close</th>\n",
              "      <th>close_lag0</th>\n",
              "      <th>close_lag1</th>\n",
              "      <th>close_lag2</th>\n",
              "      <th>close_lag3</th>\n",
              "      <th>close_lag4</th>\n",
              "      <th>close_lag5</th>\n",
              "      <th>close_lag6</th>\n",
              "      <th>close_lag7</th>\n",
              "      <th>close_lag8</th>\n",
              "      <th>close_lag9</th>\n",
              "      <th>target</th>\n",
              "    </tr>\n",
              "  </thead>\n",
              "  <tbody>\n",
              "    <tr>\n",
              "      <th>5</th>\n",
              "      <td>9232.0</td>\n",
              "      <td>NaN</td>\n",
              "      <td>NaN</td>\n",
              "      <td>NaN</td>\n",
              "      <td>NaN</td>\n",
              "      <td>NaN</td>\n",
              "      <td>NaN</td>\n",
              "      <td>NaN</td>\n",
              "      <td>NaN</td>\n",
              "      <td>NaN</td>\n",
              "      <td>NaN</td>\n",
              "      <td>9290.5</td>\n",
              "    </tr>\n",
              "    <tr>\n",
              "      <th>7</th>\n",
              "      <td>9290.5</td>\n",
              "      <td>9232.0</td>\n",
              "      <td>NaN</td>\n",
              "      <td>NaN</td>\n",
              "      <td>NaN</td>\n",
              "      <td>NaN</td>\n",
              "      <td>NaN</td>\n",
              "      <td>NaN</td>\n",
              "      <td>NaN</td>\n",
              "      <td>NaN</td>\n",
              "      <td>NaN</td>\n",
              "      <td>9271.5</td>\n",
              "    </tr>\n",
              "    <tr>\n",
              "      <th>9</th>\n",
              "      <td>9271.5</td>\n",
              "      <td>9290.5</td>\n",
              "      <td>9232.0</td>\n",
              "      <td>NaN</td>\n",
              "      <td>NaN</td>\n",
              "      <td>NaN</td>\n",
              "      <td>NaN</td>\n",
              "      <td>NaN</td>\n",
              "      <td>NaN</td>\n",
              "      <td>NaN</td>\n",
              "      <td>NaN</td>\n",
              "      <td>9185.5</td>\n",
              "    </tr>\n",
              "    <tr>\n",
              "      <th>12</th>\n",
              "      <td>9185.5</td>\n",
              "      <td>9271.5</td>\n",
              "      <td>9290.5</td>\n",
              "      <td>9232.0</td>\n",
              "      <td>NaN</td>\n",
              "      <td>NaN</td>\n",
              "      <td>NaN</td>\n",
              "      <td>NaN</td>\n",
              "      <td>NaN</td>\n",
              "      <td>NaN</td>\n",
              "      <td>NaN</td>\n",
              "      <td>9217.5</td>\n",
              "    </tr>\n",
              "    <tr>\n",
              "      <th>17</th>\n",
              "      <td>9217.5</td>\n",
              "      <td>9185.5</td>\n",
              "      <td>9271.5</td>\n",
              "      <td>9290.5</td>\n",
              "      <td>9232.0</td>\n",
              "      <td>NaN</td>\n",
              "      <td>NaN</td>\n",
              "      <td>NaN</td>\n",
              "      <td>NaN</td>\n",
              "      <td>NaN</td>\n",
              "      <td>NaN</td>\n",
              "      <td>9248.0</td>\n",
              "    </tr>\n",
              "    <tr>\n",
              "      <th>...</th>\n",
              "      <td>...</td>\n",
              "      <td>...</td>\n",
              "      <td>...</td>\n",
              "      <td>...</td>\n",
              "      <td>...</td>\n",
              "      <td>...</td>\n",
              "      <td>...</td>\n",
              "      <td>...</td>\n",
              "      <td>...</td>\n",
              "      <td>...</td>\n",
              "      <td>...</td>\n",
              "      <td>...</td>\n",
              "    </tr>\n",
              "    <tr>\n",
              "      <th>39751</th>\n",
              "      <td>21413.0</td>\n",
              "      <td>21495.0</td>\n",
              "      <td>21188.0</td>\n",
              "      <td>21188.0</td>\n",
              "      <td>21225.0</td>\n",
              "      <td>21073.0</td>\n",
              "      <td>21039.0</td>\n",
              "      <td>20957.0</td>\n",
              "      <td>21108.0</td>\n",
              "      <td>21141.0</td>\n",
              "      <td>21124.0</td>\n",
              "      <td>21472.0</td>\n",
              "    </tr>\n",
              "    <tr>\n",
              "      <th>39754</th>\n",
              "      <td>21472.0</td>\n",
              "      <td>21413.0</td>\n",
              "      <td>21495.0</td>\n",
              "      <td>21188.0</td>\n",
              "      <td>21188.0</td>\n",
              "      <td>21225.0</td>\n",
              "      <td>21073.0</td>\n",
              "      <td>21039.0</td>\n",
              "      <td>20957.0</td>\n",
              "      <td>21108.0</td>\n",
              "      <td>21141.0</td>\n",
              "      <td>21458.0</td>\n",
              "    </tr>\n",
              "    <tr>\n",
              "      <th>39757</th>\n",
              "      <td>21458.0</td>\n",
              "      <td>21472.0</td>\n",
              "      <td>21413.0</td>\n",
              "      <td>21495.0</td>\n",
              "      <td>21188.0</td>\n",
              "      <td>21188.0</td>\n",
              "      <td>21225.0</td>\n",
              "      <td>21073.0</td>\n",
              "      <td>21039.0</td>\n",
              "      <td>20957.0</td>\n",
              "      <td>21108.0</td>\n",
              "      <td>21372.0</td>\n",
              "    </tr>\n",
              "    <tr>\n",
              "      <th>39760</th>\n",
              "      <td>21372.0</td>\n",
              "      <td>21458.0</td>\n",
              "      <td>21472.0</td>\n",
              "      <td>21413.0</td>\n",
              "      <td>21495.0</td>\n",
              "      <td>21188.0</td>\n",
              "      <td>21188.0</td>\n",
              "      <td>21225.0</td>\n",
              "      <td>21073.0</td>\n",
              "      <td>21039.0</td>\n",
              "      <td>20957.0</td>\n",
              "      <td>21335.0</td>\n",
              "    </tr>\n",
              "    <tr>\n",
              "      <th>39763</th>\n",
              "      <td>21335.0</td>\n",
              "      <td>21372.0</td>\n",
              "      <td>21458.0</td>\n",
              "      <td>21472.0</td>\n",
              "      <td>21413.0</td>\n",
              "      <td>21495.0</td>\n",
              "      <td>21188.0</td>\n",
              "      <td>21188.0</td>\n",
              "      <td>21225.0</td>\n",
              "      <td>21073.0</td>\n",
              "      <td>21039.0</td>\n",
              "      <td>21417.0</td>\n",
              "    </tr>\n",
              "  </tbody>\n",
              "</table>\n",
              "<p>15919 rows × 12 columns</p>\n",
              "</div>\n",
              "      <button class=\"colab-df-convert\" onclick=\"convertToInteractive('df-ad1b9c53-c099-4cd8-ab94-6ec78403e29f')\"\n",
              "              title=\"Convert this dataframe to an interactive table.\"\n",
              "              style=\"display:none;\">\n",
              "        \n",
              "  <svg xmlns=\"http://www.w3.org/2000/svg\" height=\"24px\"viewBox=\"0 0 24 24\"\n",
              "       width=\"24px\">\n",
              "    <path d=\"M0 0h24v24H0V0z\" fill=\"none\"/>\n",
              "    <path d=\"M18.56 5.44l.94 2.06.94-2.06 2.06-.94-2.06-.94-.94-2.06-.94 2.06-2.06.94zm-11 1L8.5 8.5l.94-2.06 2.06-.94-2.06-.94L8.5 2.5l-.94 2.06-2.06.94zm10 10l.94 2.06.94-2.06 2.06-.94-2.06-.94-.94-2.06-.94 2.06-2.06.94z\"/><path d=\"M17.41 7.96l-1.37-1.37c-.4-.4-.92-.59-1.43-.59-.52 0-1.04.2-1.43.59L10.3 9.45l-7.72 7.72c-.78.78-.78 2.05 0 2.83L4 21.41c.39.39.9.59 1.41.59.51 0 1.02-.2 1.41-.59l7.78-7.78 2.81-2.81c.8-.78.8-2.07 0-2.86zM5.41 20L4 18.59l7.72-7.72 1.47 1.35L5.41 20z\"/>\n",
              "  </svg>\n",
              "      </button>\n",
              "      \n",
              "  <style>\n",
              "    .colab-df-container {\n",
              "      display:flex;\n",
              "      flex-wrap:wrap;\n",
              "      gap: 12px;\n",
              "    }\n",
              "\n",
              "    .colab-df-convert {\n",
              "      background-color: #E8F0FE;\n",
              "      border: none;\n",
              "      border-radius: 50%;\n",
              "      cursor: pointer;\n",
              "      display: none;\n",
              "      fill: #1967D2;\n",
              "      height: 32px;\n",
              "      padding: 0 0 0 0;\n",
              "      width: 32px;\n",
              "    }\n",
              "\n",
              "    .colab-df-convert:hover {\n",
              "      background-color: #E2EBFA;\n",
              "      box-shadow: 0px 1px 2px rgba(60, 64, 67, 0.3), 0px 1px 3px 1px rgba(60, 64, 67, 0.15);\n",
              "      fill: #174EA6;\n",
              "    }\n",
              "\n",
              "    [theme=dark] .colab-df-convert {\n",
              "      background-color: #3B4455;\n",
              "      fill: #D2E3FC;\n",
              "    }\n",
              "\n",
              "    [theme=dark] .colab-df-convert:hover {\n",
              "      background-color: #434B5C;\n",
              "      box-shadow: 0px 1px 3px 1px rgba(0, 0, 0, 0.15);\n",
              "      filter: drop-shadow(0px 1px 2px rgba(0, 0, 0, 0.3));\n",
              "      fill: #FFFFFF;\n",
              "    }\n",
              "  </style>\n",
              "\n",
              "      <script>\n",
              "        const buttonEl =\n",
              "          document.querySelector('#df-ad1b9c53-c099-4cd8-ab94-6ec78403e29f button.colab-df-convert');\n",
              "        buttonEl.style.display =\n",
              "          google.colab.kernel.accessAllowed ? 'block' : 'none';\n",
              "\n",
              "        async function convertToInteractive(key) {\n",
              "          const element = document.querySelector('#df-ad1b9c53-c099-4cd8-ab94-6ec78403e29f');\n",
              "          const dataTable =\n",
              "            await google.colab.kernel.invokeFunction('convertToInteractive',\n",
              "                                                     [key], {});\n",
              "          if (!dataTable) return;\n",
              "\n",
              "          const docLinkHtml = 'Like what you see? Visit the ' +\n",
              "            '<a target=\"_blank\" href=https://colab.research.google.com/notebooks/data_table.ipynb>data table notebook</a>'\n",
              "            + ' to learn more about interactive tables.';\n",
              "          element.innerHTML = '';\n",
              "          dataTable['output_type'] = 'display_data';\n",
              "          await google.colab.output.renderOutput(dataTable, element);\n",
              "          const docLink = document.createElement('div');\n",
              "          docLink.innerHTML = docLinkHtml;\n",
              "          element.appendChild(docLink);\n",
              "        }\n",
              "      </script>\n",
              "    </div>\n",
              "  </div>\n",
              "  "
            ]
          },
          "metadata": {},
          "execution_count": 557
        }
      ]
    },
    {
      "cell_type": "code",
      "source": [
        "ins = out.iloc[lagy:].drop('target', axis = 1)\n",
        "tar = out['target'].iloc[lagy:]\n",
        "rfr = LinearRegression()\n",
        "rfr.fit(ins.iloc[0:1000], tar.iloc[0:1000])\n",
        "y_pred = rfr.predict(ins.iloc[1000:15000])"
      ],
      "metadata": {
        "id": "Dy9wi-w7D27i"
      },
      "execution_count": null,
      "outputs": []
    },
    {
      "cell_type": "code",
      "source": [
        "from sklearn.metrics import mean_squared_error\n",
        "target = tar.iloc[1000:15000].reset_index().drop('index', axis = 1)\n",
        "np.sqrt(mean_squared_error(target, y_pred))"
      ],
      "metadata": {
        "colab": {
          "base_uri": "https://localhost:8080/"
        },
        "id": "ILUKiVT8Esf5",
        "outputId": "e5dc0884-5810-4bc9-b6ef-abfbb52f134a"
      },
      "execution_count": null,
      "outputs": [
        {
          "output_type": "execute_result",
          "data": {
            "text/plain": [
              "391.9730845776529"
            ]
          },
          "metadata": {},
          "execution_count": 559
        }
      ]
    },
    {
      "cell_type": "markdown",
      "source": [
        ""
      ],
      "metadata": {
        "id": "j4j_vMkaLJaV"
      }
    },
    {
      "cell_type": "code",
      "source": [
        "plt.figure(figsize = (30,10))\n",
        "plt.plot(target, label = 'target')\n",
        "plt.plot(y_pred,label = 'prediction')\n",
        "plt.savefig('prediction.pdf')"
      ],
      "metadata": {
        "colab": {
          "base_uri": "https://localhost:8080/",
          "height": 592
        },
        "id": "mt81JlAEFGwQ",
        "outputId": "a22e4e5a-76f9-40e6-c03f-d38a89e15614"
      },
      "execution_count": null,
      "outputs": [
        {
          "output_type": "display_data",
          "data": {
            "text/plain": [
              "<Figure size 2160x720 with 1 Axes>"
            ],
            "image/png": "[encoded data removed]"
          },
          "metadata": {
            "needs_background": "light"
          }
        }
      ]
    },
    {
      "cell_type": "code",
      "source": [
        ""
      ],
      "metadata": {
        "colab": {
          "base_uri": "https://localhost:8080/"
        },
        "id": "M4EkHhe6FPPP",
        "outputId": "9260ae7f-61a3-4512-c7e1-8c3382f95e71"
      },
      "execution_count": null,
      "outputs": [
        {
          "output_type": "execute_result",
          "data": {
            "text/plain": [
              "1085.6810720388494"
            ]
          },
          "metadata": {},
          "execution_count": 539
        }
      ]
    },
    {
      "cell_type": "code",
      "source": [
        ""
      ],
      "metadata": {
        "id": "LXxQ-tZQG5sv"
      },
      "execution_count": null,
      "outputs": []
    }
  ]
}
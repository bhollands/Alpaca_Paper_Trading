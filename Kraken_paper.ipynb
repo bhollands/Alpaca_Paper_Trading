{
  "nbformat": 4,
  "nbformat_minor": 0,
  "metadata": {
    "colab": {
      "name": "Kraken_paper.ipynb",
      "provenance": [],
      "collapsed_sections": []
    },
    "kernelspec": {
      "name": "python3",
      "display_name": "Python 3"
    },
    "language_info": {
      "name": "python"
    }
  },
  "cells": [
    {
      "cell_type": "code",
      "source": [
        "!pip install pykrakenapi\n",
        "!pip install krakenex"
      ],
      "metadata": {
        "id": "KPja36XVWNmx"
      },
      "execution_count": null,
      "outputs": []
    },
    {
      "cell_type": "code",
      "execution_count": null,
      "metadata": {
        "id": "fOl9t2gOMM6i"
      },
      "outputs": [],
      "source": [
        "import pandas as pd\n",
        "import numpy as np"
      ]
    },
    {
      "cell_type": "code",
      "source": [
        "\n",
        "import krakenex\n",
        "from pykrakenapi import KrakenAPI\n",
        "api = krakenex.API()\n",
        "kraken = KrakenAPI(api)\n",
        "'''\n",
        "This call will act in place of the alpaca api, meaning that its main functions are to track \n",
        "- Current portfolio price\n",
        "- Get current option price\n",
        "- buy and sell options\n",
        "'''\n",
        "class PaperAccount():\n",
        "  def __init__(self, portfolio_size):\n",
        "    self.portfolio_size = portfolio_size\n",
        "  \n",
        "  def get_price(self, option):\n",
        "    price = kraken.get_ticker_information(option)\n",
        "    price.columns = ['Ask','Bid','Last Trade Closed', 'Volume', 'VWAP','Trades','Low','High','Open Price Today']\n",
        "    price['Trades'] = [pd.to_numeric(price['Trades'][0])]\n",
        "    return price\n",
        "  \n",
        "  def buy(self, option, amount):\n",
        "    pass\n",
        "  \n",
        "  def sell(self, option):\n",
        "    pass\n",
        "  \n",
        "  def log_trade():\n",
        "    pass\n",
        "  \n",
        "  def close_trade():\n",
        "    pass\n",
        "\n",
        "  "
      ],
      "metadata": {
        "id": "3CquYGBgNsFa"
      },
      "execution_count": null,
      "outputs": []
    }
  ]
}
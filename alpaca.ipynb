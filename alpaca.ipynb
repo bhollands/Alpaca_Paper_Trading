{
 "cells": [
  {
   "cell_type": "code",
   "execution_count": 24,
   "metadata": {},
   "outputs": [
    {
     "name": "stdout",
     "output_type": "stream",
     "text": [
      "*** ACTIVATING ***\n",
      "*** Connected to API *** \n",
      "*** CLOSING OPEN POSITIONS ***\n",
      "*** HOURLY MODE ***\n",
      "Current Value: 98438.56\n"
     ]
    }
   ],
   "source": [
    "import alpaca_trade_api as tradeapi\n",
    "from alpaca_trade_api.rest import REST, TimeFrame\n",
    "import pandas as pd\n",
    "from sklearn.linear_model import LinearRegression\n",
    "from sklearn.metrics import accuracy_score\n",
    "import numpy as np\n",
    "from time import sleep\n",
    "from datetime import datetime\n",
    "from dateutil.relativedelta import relativedelta\n",
    "\n",
    "def import_data(api, dates):\n",
    "  btc = api.get_crypto_bars('BTCUSD','15Min', dates[0],dates[1]).df\n",
    "  btc = btc.reset_index()\n",
    "  btc = btc[btc['exchange'] == 'CBSE']\n",
    "  dates = pd.to_datetime(btc['timestamp']).dt.tz_convert(None)\n",
    "  btc['time'] = (dates - pd.Timestamp('1970-01-01')) //pd.Timedelta('1s')\n",
    "  return btc\n",
    "\n",
    "def add_lag(df, col_to_lag, lag):\n",
    "  dataset = df.copy()\n",
    "  for i in range(lag):\n",
    "    dataset[f'{col_to_lag}_lag_{i+1}'] = dataset[col_to_lag].shift(i+1)\n",
    "  return dataset\n",
    "\n",
    "def create_target(df_close, future_step,target_from):\n",
    "  df = df_close.copy()\n",
    "  df['future_'+ str(future_step)] = df['close'].shift(-future_step)\n",
    "  df['diff'] = df['future_'+ str(future_step)] - df['close']\n",
    "  df['class'] = np.where((df['diff'] > 0), 1, 0)\n",
    "  return df\n",
    "\n",
    "def make_dataset(lag_num,future ,dates,api):\n",
    "  btc = import_data(api, dates)\n",
    "  data = create_target(pd.DataFrame(btc['close']), future, 'close')\n",
    "  lag = add_lag(pd.DataFrame(data['close']), 'close', lag_num)\n",
    "  dataset = pd.concat([lag, data.drop('close', axis = 1)], axis = 1)\n",
    "  dataset['time'] = btc['time']\n",
    "  dataset = dataset.iloc[lag_num:]\n",
    "  dataset = dataset.iloc[0:-future]\n",
    "  return dataset\n",
    "\n",
    "def get_position(symbol):\n",
    "  positions = alpaca.list_positions()\n",
    "  for p in positions:\n",
    "    if p.symbol == symbol:\n",
    "      return float(p.qty)\n",
    "  return 0\n",
    "\n",
    "def get_input(symbol, length):\n",
    "  bars = alpaca.get_crypto_bars(symbol, '15Min').df\n",
    "  bars = bars[bars['exchange'] == 'CBSE']\n",
    "  out = {}\n",
    "  out['close'] = bars['close'].iloc[-1]\n",
    "  for _ in range(1, length+1):\n",
    "    i = 2\n",
    "    out['close_lag_'+str(_)] = bars['close'].iloc[-i]\n",
    "    i+=1\n",
    "  return pd.DataFrame(out, index = [0])\n",
    "\n",
    "def rmse(actual, predict):\n",
    "  return np.sqrt(np.mean((actual - predict)**2))\n",
    "\n",
    "def train_model(training_data, tr_cols, target):\n",
    "  print(training_data.columns)\n",
    "  lm = LinearRegression()\n",
    "  lm.fit(training_data[tr_cols], training_data[target])\n",
    "  return lm\n",
    "\n",
    "def test(model,data,train_index, feature_cols, target):\n",
    "  mod = model\n",
    "  train = data.iloc[:train_index]\n",
    "  test = data.iloc[train_index:]\n",
    "  train_pred = mod.predict(train[feature_cols])\n",
    "  y_pred = mod.predict(test[feature_cols])\n",
    "  print('Training RMSE: ', rmse(train[target], train_pred))\n",
    "  print('Test RMSE: ',rmse(test[target], y_pred))\n",
    "  \n",
    "  test['y_pred'] = y_pred\n",
    "  test['y_pred_diff'] = test['future_60'] - test['y_pred']\n",
    "  test['mvnt'] = np.where((test['y_pred_diff']) > 0,1,0)\n",
    "  print('Test Accuracy: ',accuracy_score(test['mvnt'],test['class']))\n",
    "\n",
    "\n",
    "credentials = {'key':'PKA34K1SAVG8GUCS1DG1',\n",
    "               'secret_key':'slfVviLDQuwmcwC8VpTZ2qbkYPOsKQ2dVnLXCeGl',\n",
    "               'url':'https://paper-api.alpaca.markets'}\n",
    "\n",
    "print('*** ACTIVATING ***')\n",
    "alpaca = tradeapi.REST(credentials['key'],credentials['secret_key'], base_url = credentials['url'])\n",
    "print('*** Connected to API *** ')\n",
    "portfolio_value = float(alpaca.get_account().equity)\n",
    "\n",
    "\n",
    "print('*** CLOSING OPEN POSITIONS ***')\n",
    "alpaca.close_all_positions()\n",
    "\n",
    "print('*** HOURLY MODE ***')\n",
    "print('Current Value:', portfolio_value) \n",
    "\n",
    "\n",
    "#train once\n",
    "\n",
    "\n",
    "# test(model,hist_data,int(hist_data.shape[0]*.7), hist_data.columns[:-4], 'future_4')\n",
    "# run forever\n",
    "while True:\n",
    "\n",
    "  today = datetime.now().isoformat()[:10]\n",
    "  yr_ago = (datetime.now() - relativedelta(days = 7)).isoformat()[:10]\n",
    "  dates = [yr_ago, today]\n",
    "  hist_data = make_dataset(10, 4, dates,alpaca)\n",
    "  print(hist_data.columns)\n",
    "  \n",
    "  #print(hist_data.columns)\n",
    "  model = train_model(hist_data,hist_data.columns[:-4], 'future_4')\n",
    "  #test(model,hist_data,int(hist_data.shape[0]*.7), hist_data.columns[:-4], 'future_4' )\n",
    "  input = get_input('BTCUSD', 10) \n",
    "  y_pred = model.predict(input)\n",
    "  threshold = input['close'].iloc[0]\n",
    " \n",
    "  if get_position('BTCUSD') == 0 and y_pred > threshold: #if not holding and going up BUY\n",
    "    alpaca.submit_order('BTCUSD', qty = 1, side = 'buy')\n",
    "    sleep(0.5)\n",
    "    pos = alpaca.get_position('BTCUSD').market_value\n",
    "    new_value = float(alpaca.get_account().equity)\n",
    "    print(str(datetime.now())[:19]+f' - Bought BTC @ {pos} | Projected Value = {y_pred} | Threshold: {threshold} | Portfolio Value: {new_value}' )\n",
    "\n",
    "  elif (get_position('BTCUSD') == 1):# and y_pred < input['close']) or (new_value - portfolio_value) < -500: #if holding and going down SELL\n",
    "    alpaca.close_position('BTCUSD')\n",
    "    new_value = float(alpaca.get_account().equity)\n",
    "    if new_value > portfolio_value:\n",
    "      print(str(datetime.now())[:19]+f'- **SOLD BTC @ {new_value - portfolio_value}$ PROFIT** | Portfolio Value: {new_value}')\n",
    "      porfolio_value = new_value\n",
    "    else:\n",
    "      print(str(datetime.now())[:19]+f'- Sold BTC @ {new_value - portfolio_value}$ loss** | Portfolio Value: {new_value}')\n",
    "      porfolio_value = new_value\n",
    "    \n",
    "  # elif get_position('BTCUSD'):\n",
    "  #   curr_btc_value = alpaca.get_position('BTCUSD').market_value\n",
    "  #   print(str(datetime.now())[:19]+f' - Position Held @ {curr_btc_value} | Current Profit: {new_value - portfolio_value} | Projected Value: {y_pred} | Portfolio Value: {new_value}')\n",
    "  else:\n",
    "    cl = input['close'].iloc[0]\n",
    "    print(str(datetime.now())[:19]+f'- No Action Taken | Close: {cl} | Predicted: {y_pred} | Threshold: {threshold} | Portfolio Value: {portfolio_value}')\n",
    "  \n",
    "  if get_position('BTCUSD') == 1:\n",
    "    print('Wainting 1 Hour')\n",
    "    sleep(3600) #sleep for an hour\n",
    "  else:\n",
    "    print('Waiting 5 Mins')\n",
    "    sleep(60*5)"
   ]
  },
  {
   "cell_type": "code",
   "execution_count": 25,
   "metadata": {},
   "outputs": [],
   "source": [
    "today = datetime.now().isoformat()[:10]\n",
    "yr_ago = (datetime.now() - relativedelta(days = 7)).isoformat()[:10]\n",
    "dates = [yr_ago, today]\n",
    "hist_data = make_dataset(10, 4, dates,alpaca)"
   ]
  },
  {
   "cell_type": "code",
   "execution_count": 27,
   "metadata": {},
   "outputs": [
    {
     "data": {
      "text/plain": [
       "<matplotlib.collections.PathCollection at 0x29c1e9785e0>"
      ]
     },
     "execution_count": 27,
     "metadata": {},
     "output_type": "execute_result"
    },
    {
     "data": {
      "image/png": "[encoded data removed]",
      "text/plain": [
       "<Figure size 432x288 with 1 Axes>"
      ]
     },
     "metadata": {
      "needs_background": "light"
     },
     "output_type": "display_data"
    }
   ],
   "source": [
    "import matplotlib.pyplot as plt\n",
    "plt.scatter(hist_data['close'], hist_data['future_4'])"
   ]
  },
  {
   "cell_type": "code",
   "execution_count": 30,
   "metadata": {},
   "outputs": [
    {
     "data": {
      "text/plain": [
       "<matplotlib.collections.PathCollection at 0x29c1ea7ebb0>"
      ]
     },
     "execution_count": 30,
     "metadata": {},
     "output_type": "execute_result"
    },
    {
     "data": {
      "image/png": "[encoded data removed]",
      "text/plain": [
       "<Figure size 432x288 with 1 Axes>"
      ]
     },
     "metadata": {
      "needs_background": "light"
     },
     "output_type": "display_data"
    }
   ],
   "source": [
    "lm = LinearRegression()\n",
    "X = hist_data.drop(['future_4', 'diff', 'class'], axis = 1)\n",
    "y = hist_data['future_4']\n",
    "lm.fit(X,y)\n",
    "y_pred = lm.predict(X)\n",
    "\n",
    "plt.scatter(hist_data['close_lag_1'], hist_data['future_4'])\n",
    "plt.scatter(hist_data['close_lag_1'], y_pred, color = 'red')"
   ]
  },
  {
   "cell_type": "code",
   "execution_count": 31,
   "metadata": {},
   "outputs": [
    {
     "data": {
      "text/plain": [
       "[<matplotlib.lines.Line2D at 0x29c1e955280>]"
      ]
     },
     "execution_count": 31,
     "metadata": {},
     "output_type": "execute_result"
    },
    {
     "data": {
      "image/png": "[encoded data removed]",
      "text/plain": [
       "<Figure size 432x288 with 1 Axes>"
      ]
     },
     "metadata": {
      "needs_background": "light"
     },
     "output_type": "display_data"
    }
   ],
   "source": [
    "plt.plot(y.reset_index(drop = True))\n",
    "plt.plot(y_pred)"
   ]
  },
  {
   "cell_type": "code",
   "execution_count": 33,
   "metadata": {},
   "outputs": [
    {
     "data": {
      "text/html": [
       "<div>\n",
       "<style scoped>\n",
       "    .dataframe tbody tr th:only-of-type {\n",
       "        vertical-align: middle;\n",
       "    }\n",
       "\n",
       "    .dataframe tbody tr th {\n",
       "        vertical-align: top;\n",
       "    }\n",
       "\n",
       "    .dataframe thead th {\n",
       "        text-align: right;\n",
       "    }\n",
       "</style>\n",
       "<table border=\"1\" class=\"dataframe\">\n",
       "  <thead>\n",
       "    <tr style=\"text-align: right;\">\n",
       "      <th></th>\n",
       "      <th>close</th>\n",
       "      <th>close_lag_1</th>\n",
       "      <th>close_lag_2</th>\n",
       "      <th>close_lag_3</th>\n",
       "      <th>close_lag_4</th>\n",
       "      <th>close_lag_5</th>\n",
       "      <th>close_lag_6</th>\n",
       "      <th>close_lag_7</th>\n",
       "      <th>close_lag_8</th>\n",
       "      <th>close_lag_9</th>\n",
       "      <th>close_lag_10</th>\n",
       "    </tr>\n",
       "  </thead>\n",
       "  <tbody>\n",
       "    <tr>\n",
       "      <th>0</th>\n",
       "      <td>23335.51</td>\n",
       "      <td>23315.65</td>\n",
       "      <td>23315.65</td>\n",
       "      <td>23315.65</td>\n",
       "      <td>23315.65</td>\n",
       "      <td>23315.65</td>\n",
       "      <td>23315.65</td>\n",
       "      <td>23315.65</td>\n",
       "      <td>23315.65</td>\n",
       "      <td>23315.65</td>\n",
       "      <td>23315.65</td>\n",
       "    </tr>\n",
       "  </tbody>\n",
       "</table>\n",
       "</div>"
      ],
      "text/plain": [
       "      close  close_lag_1  close_lag_2  close_lag_3  close_lag_4  close_lag_5  \\\n",
       "0  23335.51     23315.65     23315.65     23315.65     23315.65     23315.65   \n",
       "\n",
       "   close_lag_6  close_lag_7  close_lag_8  close_lag_9  close_lag_10  \n",
       "0     23315.65     23315.65     23315.65     23315.65      23315.65  "
      ]
     },
     "execution_count": 33,
     "metadata": {},
     "output_type": "execute_result"
    }
   ],
   "source": [
    "input = get_input('BTCUSD', 10)\n",
    "input"
   ]
  }
 ],
 "metadata": {
  "kernelspec": {
   "display_name": "Python 3.9.13 64-bit",
   "language": "python",
   "name": "python3"
  },
  "language_info": {
   "codemirror_mode": {
    "name": "ipython",
    "version": 3
   },
   "file_extension": ".py",
   "mimetype": "text/x-python",
   "name": "python",
   "nbconvert_exporter": "python",
   "pygments_lexer": "ipython3",
   "version": "3.9.13"
  },
  "orig_nbformat": 4,
  "vscode": {
   "interpreter": {
    "hash": "f1beb629dae597802e4531a861a443a165727af62f2d5ee65b6285b441acccee"
   }
  }
 },
 "nbformat": 4,
 "nbformat_minor": 2
}
